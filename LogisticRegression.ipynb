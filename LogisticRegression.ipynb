{
 "cells": [
  {
   "cell_type": "markdown",
   "metadata": {
    "pycharm": {
     "name": "#%% md\n"
    }
   },
   "source": [
    "### Libraries"
   ]
  },
  {
   "cell_type": "code",
   "execution_count": 3,
   "metadata": {
    "pycharm": {
     "name": "#%%\n"
    }
   },
   "outputs": [],
   "source": [
    "import pandas as pd\n",
    "import numpy as np\n",
    "import matplotlib.pyplot as plt\n"
   ]
  },
  {
   "cell_type": "markdown",
   "metadata": {
    "pycharm": {
     "name": "#%% md\n"
    }
   },
   "source": [
    "#### Loading Data"
   ]
  },
  {
   "cell_type": "code",
   "execution_count": 4,
   "metadata": {
    "pycharm": {
     "name": "#%%\n"
    }
   },
   "outputs": [
    {
     "data": {
      "text/plain": "     feature3  feature7  class\n0   -0.679414 -0.624484      1\n1   -0.043658 -1.118225      1\n2    1.460756 -1.363225      1\n3    0.862767 -1.400630      1\n4    1.360042 -0.708644      1\n..        ...       ...    ...\n135  1.083079 -0.214903      2\n136 -0.207318  0.780060      2\n137 -1.831329  0.607999      2\n138 -1.497715  0.370480      2\n139  0.201832  0.688419      2\n\n[140 rows x 3 columns]",
      "text/html": "<div>\n<style scoped>\n    .dataframe tbody tr th:only-of-type {\n        vertical-align: middle;\n    }\n\n    .dataframe tbody tr th {\n        vertical-align: top;\n    }\n\n    .dataframe thead th {\n        text-align: right;\n    }\n</style>\n<table border=\"1\" class=\"dataframe\">\n  <thead>\n    <tr style=\"text-align: right;\">\n      <th></th>\n      <th>feature3</th>\n      <th>feature7</th>\n      <th>class</th>\n    </tr>\n  </thead>\n  <tbody>\n    <tr>\n      <th>0</th>\n      <td>-0.679414</td>\n      <td>-0.624484</td>\n      <td>1</td>\n    </tr>\n    <tr>\n      <th>1</th>\n      <td>-0.043658</td>\n      <td>-1.118225</td>\n      <td>1</td>\n    </tr>\n    <tr>\n      <th>2</th>\n      <td>1.460756</td>\n      <td>-1.363225</td>\n      <td>1</td>\n    </tr>\n    <tr>\n      <th>3</th>\n      <td>0.862767</td>\n      <td>-1.400630</td>\n      <td>1</td>\n    </tr>\n    <tr>\n      <th>4</th>\n      <td>1.360042</td>\n      <td>-0.708644</td>\n      <td>1</td>\n    </tr>\n    <tr>\n      <th>...</th>\n      <td>...</td>\n      <td>...</td>\n      <td>...</td>\n    </tr>\n    <tr>\n      <th>135</th>\n      <td>1.083079</td>\n      <td>-0.214903</td>\n      <td>2</td>\n    </tr>\n    <tr>\n      <th>136</th>\n      <td>-0.207318</td>\n      <td>0.780060</td>\n      <td>2</td>\n    </tr>\n    <tr>\n      <th>137</th>\n      <td>-1.831329</td>\n      <td>0.607999</td>\n      <td>2</td>\n    </tr>\n    <tr>\n      <th>138</th>\n      <td>-1.497715</td>\n      <td>0.370480</td>\n      <td>2</td>\n    </tr>\n    <tr>\n      <th>139</th>\n      <td>0.201832</td>\n      <td>0.688419</td>\n      <td>2</td>\n    </tr>\n  </tbody>\n</table>\n<p>140 rows × 3 columns</p>\n</div>"
     },
     "execution_count": 4,
     "metadata": {},
     "output_type": "execute_result"
    }
   ],
   "source": [
    "dataset = pd.read_csv(\"seed.txt\", sep=\"\\t\",\n",
    "                        names=[\"feature1\", \"feature2\", \"feature3\", \"feature4\", \"feature5\", \"feature6\", \"feature7\", \"class\"],\n",
    "                        usecols = ['feature3','feature7', \"class\"],\n",
    "                        )\n",
    "# dataset.drop(dataset[\"class\"]==3)\n",
    "dataset.drop(dataset[dataset['class'] == 3].index, inplace = True)\n",
    "dataset[\"feature3\"] = (dataset[\"feature3\"] - dataset[\"feature3\"].mean()) / dataset[\"feature3\"].std()    \n",
    "dataset[\"feature7\"] = (dataset[\"feature7\"] - dataset[\"feature7\"].mean()) / dataset[\"feature7\"].std()    \n",
    "dataset\n"
   ]
  },
  {
   "cell_type": "markdown",
   "metadata": {
    "pycharm": {
     "name": "#%% md\n"
    }
   },
   "source": [
    "### Modeling"
   ]
  },
  {
   "cell_type": "code",
   "execution_count": 5,
   "metadata": {
    "pycharm": {
     "name": "#%%\n"
    }
   },
   "outputs": [],
   "source": [
    "class LinearRegression:\n",
    "    def __init__(self, data, test_data, iteration, alpha):\n",
    "        self.weights = np.random.randn(3,1)\n",
    "        self.X_test = test_data.to_numpy()[:,:2]\n",
    "        self.X_test = np.c_[self.X_test, np.ones(self.X_test.shape[0])]\n",
    "        self.y_test = test_data.to_numpy()[:,2] - 1\n",
    "        self.X = data.to_numpy()[:,:2]\n",
    "        self.X = np.c_[self.X, np.ones(self.X.shape[0])]\n",
    "        self.y = data.to_numpy()[:,2] - 1\n",
    "        self.cost_list = [0 for i in range(iteration+1)]\n",
    "        self.iteration = iteration\n",
    "        self.alpha = alpha\n",
    "        self.test_cost_list = [0 for i in range(iteration+1)]\n",
    "        \n",
    "    def hypothesis(self, X):\n",
    "        return 1 / (1+np.e**(-np.dot(self.weights.T,X)))\n",
    "\n",
    "    def cost(self):\n",
    "        m, n = self.X.shape\n",
    "        total_error = 0\n",
    "        for i in range(m):\n",
    "            predicted_value = self.hypothesis(self.X[i])\n",
    "            likelihood = (self.y[i]*np.log(predicted_value)) + (1-self.y[i]) * np.log(1-predicted_value)\n",
    "            total_error += likelihood\n",
    "        return total_error\n",
    "\n",
    "    def test_cost(self):\n",
    "        m, n = self.X_test.shape\n",
    "        total_error = 0\n",
    "        for i in range(m):\n",
    "            predicted_value = self.hypothesis(self.X_test[i])\n",
    "            loss = (self.y_test[i]*np.log(predicted_value)) + (1-self.y_test[i]) * np.log(1-predicted_value)\n",
    "            total_error += loss\n",
    "        return total_error\n",
    "\n",
    "    def gradient_calc(self):\n",
    "        m, n = self.X.shape\n",
    "        weights_gradient = np.zeros(self.weights.shape)\n",
    "        \n",
    "        for i in range(n):\n",
    "            for j in range(m):\n",
    "                weights_gradient[i] += (self.y[j] - self.hypothesis(self.X[j])) * self.X[j, i]\n",
    "        return weights_gradient\n",
    "    \n",
    "    def train(self):\n",
    "        m, n = self.X.shape\n",
    "        iteration = 0\n",
    "        while iteration <= self.iteration:\n",
    "            weights_gradient = self.gradient_calc()\n",
    "            for i in range(n):\n",
    "                self.weights[i] = self.weights[i] + self.alpha * weights_gradient[i]\n",
    "            self.cost_list[iteration] = self.cost()\n",
    "            self.test_cost_list[iteration] = self.test_cost()\n",
    "            iteration += 1\n",
    "    \n",
    "    def draw_cost_function(self):\n",
    "        x = [i for i in range(0, self.iteration+1, 1)]\n",
    "        plt.plot(x, self.cost_list)\n",
    "        plt.plot(x, self.test_cost_list)\n",
    "\n",
    "    def accuracy_error(self):\n",
    "        test_true = 0\n",
    "        for i in range(len(self.X_test)):\n",
    "            predict = round(self.hypothesis(self.X_test[i])[0])\n",
    "            if predict == self.y_test[i]:\n",
    "                test_true += 1\n",
    "        train_true = 0\n",
    "        for i in range(len(self.X)):\n",
    "            predict = round(self.hypothesis(self.X[i])[0])\n",
    "            if predict == self.y[i]:\n",
    "                train_true += 1\n",
    "        print (\"Accuracy on test:\", (test_true/self.X_test.shape[0])*100)\n",
    "        print (\"Accuracy on train:\",(train_true/self.X.shape[0])*100)\n",
    "        print (\"Error on test:\", (1 - test_true/self.X_test.shape[0])*100)\n",
    "        print (\"Error on train:\",(1 - train_true/self.X.shape[0])*100)\n",
    "\n",
    "    def draw_decision_boundary(self):\n",
    "        x = np.linspace(np.min(self.X[:, 0] ), np.max(self.X[:, 0]))\n",
    "        plt.plot(x, -(self.weights[0]*x + self.weights[2])/self.weights[1])\n",
    "        train_colors=['red' if l==0 else 'blue' for l in self.y[:]]\n",
    "        test_colors=['red' if l==0 else 'blue' for l in self.y_test[:]]\n",
    "        plt.scatter(self.X[:, 0], self.X[:, 1],marker=\"o\", label='Logistics regression', color=train_colors)\n",
    "        plt.scatter(self.X_test[:, 0], self.X_test[:, 1],marker=\"x\", label='Logistics regression', color=test_colors)\n",
    "        print (f\"y = - {self.weights[0]/self.weights[1]} * x + {self.weights[2]/self.weights[1]}\")\n",
    "        print (self.weights)           "
   ]
  },
  {
   "cell_type": "markdown",
   "metadata": {
    "pycharm": {
     "name": "#%% md\n"
    }
   },
   "source": [
    "### learning"
   ]
  },
  {
   "cell_type": "code",
   "execution_count": 8,
   "metadata": {
    "pycharm": {
     "name": "#%%\n"
    }
   },
   "outputs": [],
   "source": [
    "train, test = dataset[:int(0.7*len(dataset))], dataset[int(0.7*len(dataset)):]\n",
    "\n",
    "model = LinearRegression(train, test, 100, 0.004)\n",
    "model.train()"
   ]
  },
  {
   "cell_type": "markdown",
   "metadata": {
    "pycharm": {
     "name": "#%% md\n"
    }
   },
   "source": [
    "### Plot the Cost (likelihood) Function."
   ]
  },
  {
   "cell_type": "code",
   "execution_count": 10,
   "metadata": {
    "pycharm": {
     "name": "#%%\n"
    }
   },
   "outputs": [
    {
     "data": {
      "text/plain": "<Figure size 432x288 with 1 Axes>",
      "image/png": "[encoded data removed]"
     },
     "metadata": {
      "needs_background": "light"
     },
     "output_type": "display_data"
    }
   ],
   "source": [
    "model.draw_cost_function()"
   ]
  },
  {
   "cell_type": "markdown",
   "metadata": {
    "pycharm": {
     "name": "#%% md\n"
    }
   },
   "source": [
    "### Accuracy on train and test"
   ]
  },
  {
   "cell_type": "code",
   "execution_count": 11,
   "metadata": {
    "pycharm": {
     "name": "#%%\n"
    }
   },
   "outputs": [
    {
     "name": "stdout",
     "output_type": "stream",
     "text": [
      "Accuracy on test: 88.09523809523809\n",
      "Accuracy on train: 98.9795918367347\n",
      "Error on test: 11.904761904761907\n",
      "Error on train: 1.0204081632653073\n"
     ]
    }
   ],
   "source": [
    "model.accuracy_error()"
   ]
  },
  {
   "cell_type": "markdown",
   "metadata": {
    "pycharm": {
     "name": "#%% md\n"
    }
   },
   "source": [
    "### Draw The Decision Boundary"
   ]
  },
  {
   "cell_type": "code",
   "execution_count": 12,
   "outputs": [
    {
     "name": "stdout",
     "output_type": "stream",
     "text": [
      "y = - [0.05268902] * x + [-0.27260992]\n",
      "[[ 0.18484442]\n",
      " [ 3.50821543]\n",
      " [-0.95637432]]\n"
     ]
    },
    {
     "data": {
      "text/plain": "<Figure size 432x288 with 1 Axes>",
      "image/png": "[encoded data removed]"
     },
     "metadata": {
      "needs_background": "light"
     },
     "output_type": "display_data"
    }
   ],
   "source": [
    "model.draw_decision_boundary()"
   ],
   "metadata": {
    "collapsed": false,
    "pycharm": {
     "name": "#%%\n"
    }
   }
  },
  {
   "cell_type": "code",
   "execution_count": null,
   "outputs": [],
   "source": [],
   "metadata": {
    "collapsed": false,
    "pycharm": {
     "name": "#%%\n"
    }
   }
  }
 ],
 "metadata": {
  "kernelspec": {
   "display_name": "Python 3.10.6 ('logistic')",
   "language": "python",
   "name": "python3"
  },
  "language_info": {
   "codemirror_mode": {
    "name": "ipython",
    "version": 3
   },
   "file_extension": ".py",
   "mimetype": "text/x-python",
   "name": "python",
   "nbconvert_exporter": "python",
   "pygments_lexer": "ipython3",
   "version": "3.10.6"
  },
  "orig_nbformat": 4,
  "vscode": {
   "interpreter": {
    "hash": "47b6493683d08e4ee8c451e31aedba487a670d2c2b49d5082a2b2b8cd5f0cbb7"
   }
  }
 },
 "nbformat": 4,
 "nbformat_minor": 2
}